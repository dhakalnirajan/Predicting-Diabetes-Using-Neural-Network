{
 "cells": [
  {
   "cell_type": "markdown",
   "id": "d55df195",
   "metadata": {
    "papermill": {
     "duration": 0.008157,
     "end_time": "2022-09-08T11:29:48.684919",
     "exception": false,
     "start_time": "2022-09-08T11:29:48.676762",
     "status": "completed"
    },
    "tags": []
   },
   "source": [
    "# Predicting Diabetes of a Patient Using Machine Learning"
   ]
  },
  {
   "cell_type": "markdown",
   "id": "a3d6f989",
   "metadata": {
    "papermill": {
     "duration": 0.006436,
     "end_time": "2022-09-08T11:29:48.698560",
     "exception": false,
     "start_time": "2022-09-08T11:29:48.692124",
     "status": "completed"
    },
    "tags": []
   },
   "source": [
    "Diabetes is a disease that occurs when your blood glucose, also called the blood sugar, is too high in the body. Blood glucose is a main source of energy generating in the body to function. To maintain the level of blood sugar, the pancreas in the digestive system secrets an hormone called Insulin. Insulin helps blood sugar enter the body's cells so it can be used for energy. Insulin also signals the liver to store blood sugar for later use. Blood sugar enters cells, and levels in the bloodstream decrease, signaling insulin to decrease too. When the level of Insulin is not produced sufficiently to neutralize blood sugar by some dysfunction, the sugar level increases with time and the disease develops."
   ]
  },
  {
   "cell_type": "markdown",
   "id": "5c784a78",
   "metadata": {
    "papermill": {
     "duration": 0.006973,
     "end_time": "2022-09-08T11:29:48.712559",
     "exception": false,
     "start_time": "2022-09-08T11:29:48.705586",
     "status": "completed"
    },
    "tags": []
   },
   "source": [
    "*Importing* the ***Dependencies***"
   ]
  },
  {
   "cell_type": "code",
   "execution_count": 1,
   "id": "f99d58d5",
   "metadata": {
    "execution": {
     "iopub.execute_input": "2022-09-08T11:29:48.728435Z",
     "iopub.status.busy": "2022-09-08T11:29:48.727724Z",
     "iopub.status.idle": "2022-09-08T11:29:49.852516Z",
     "shell.execute_reply": "2022-09-08T11:29:49.851254Z"
    },
    "papermill": {
     "duration": 1.135937,
     "end_time": "2022-09-08T11:29:49.855199",
     "exception": false,
     "start_time": "2022-09-08T11:29:48.719262",
     "status": "completed"
    },
    "tags": []
   },
   "outputs": [],
   "source": [
    "import numpy as np\n",
    "import pandas as pd\n",
    "from sklearn.preprocessing import StandardScaler\n",
    "from sklearn.model_selection import train_test_split\n",
    "from sklearn import svm\n",
    "from sklearn.metrics import accuracy_score"
   ]
  },
  {
   "cell_type": "markdown",
   "id": "ef1cff4d",
   "metadata": {
    "papermill": {
     "duration": 0.006379,
     "end_time": "2022-09-08T11:29:49.868718",
     "exception": false,
     "start_time": "2022-09-08T11:29:49.862339",
     "status": "completed"
    },
    "tags": []
   },
   "source": [
    "**Collecting** and **Pre-Processing** the *Data*"
   ]
  },
  {
   "cell_type": "code",
   "execution_count": 2,
   "id": "032d1661",
   "metadata": {
    "execution": {
     "iopub.execute_input": "2022-09-08T11:29:49.884296Z",
     "iopub.status.busy": "2022-09-08T11:29:49.883613Z",
     "iopub.status.idle": "2022-09-08T11:29:49.902249Z",
     "shell.execute_reply": "2022-09-08T11:29:49.901439Z"
    },
    "papermill": {
     "duration": 0.029079,
     "end_time": "2022-09-08T11:29:49.904613",
     "exception": false,
     "start_time": "2022-09-08T11:29:49.875534",
     "status": "completed"
    },
    "tags": []
   },
   "outputs": [],
   "source": [
    "#loading the dataset to a pandas Dataframe\n",
    "diabetes_dataset = pd.read_csv('../input/data-diabetes/diabetes_data.csv')"
   ]
  },
  {
   "cell_type": "code",
   "execution_count": 3,
   "id": "7e8076dd",
   "metadata": {
    "execution": {
     "iopub.execute_input": "2022-09-08T11:29:49.920768Z",
     "iopub.status.busy": "2022-09-08T11:29:49.920103Z",
     "iopub.status.idle": "2022-09-08T11:29:49.986731Z",
     "shell.execute_reply": "2022-09-08T11:29:49.985204Z"
    },
    "papermill": {
     "duration": 0.077496,
     "end_time": "2022-09-08T11:29:49.989516",
     "exception": false,
     "start_time": "2022-09-08T11:29:49.912020",
     "status": "completed"
    },
    "tags": []
   },
   "outputs": [],
   "source": [
    "pd.read_csv?"
   ]
  },
  {
   "cell_type": "code",
   "execution_count": 4,
   "id": "0ea03653",
   "metadata": {
    "execution": {
     "iopub.execute_input": "2022-09-08T11:29:50.005895Z",
     "iopub.status.busy": "2022-09-08T11:29:50.005532Z",
     "iopub.status.idle": "2022-09-08T11:29:50.024846Z",
     "shell.execute_reply": "2022-09-08T11:29:50.023696Z"
    },
    "papermill": {
     "duration": 0.030469,
     "end_time": "2022-09-08T11:29:50.027500",
     "exception": false,
     "start_time": "2022-09-08T11:29:49.997031",
     "status": "completed"
    },
    "tags": []
   },
   "outputs": [
    {
     "data": {
      "text/html": [
       "<div>\n",
       "<style scoped>\n",
       "    .dataframe tbody tr th:only-of-type {\n",
       "        vertical-align: middle;\n",
       "    }\n",
       "\n",
       "    .dataframe tbody tr th {\n",
       "        vertical-align: top;\n",
       "    }\n",
       "\n",
       "    .dataframe thead th {\n",
       "        text-align: right;\n",
       "    }\n",
       "</style>\n",
       "<table border=\"1\" class=\"dataframe\">\n",
       "  <thead>\n",
       "    <tr style=\"text-align: right;\">\n",
       "      <th></th>\n",
       "      <th>Pregnancies</th>\n",
       "      <th>Glucose</th>\n",
       "      <th>BloodPressure</th>\n",
       "      <th>SkinThickness</th>\n",
       "      <th>Insulin</th>\n",
       "      <th>BMI</th>\n",
       "      <th>DiabetesPedigreeFunction</th>\n",
       "      <th>Age</th>\n",
       "      <th>Outcome</th>\n",
       "    </tr>\n",
       "  </thead>\n",
       "  <tbody>\n",
       "    <tr>\n",
       "      <th>0</th>\n",
       "      <td>6</td>\n",
       "      <td>148</td>\n",
       "      <td>72</td>\n",
       "      <td>35</td>\n",
       "      <td>0</td>\n",
       "      <td>33.6</td>\n",
       "      <td>0.627</td>\n",
       "      <td>50</td>\n",
       "      <td>1</td>\n",
       "    </tr>\n",
       "    <tr>\n",
       "      <th>1</th>\n",
       "      <td>1</td>\n",
       "      <td>85</td>\n",
       "      <td>66</td>\n",
       "      <td>29</td>\n",
       "      <td>0</td>\n",
       "      <td>26.6</td>\n",
       "      <td>0.351</td>\n",
       "      <td>31</td>\n",
       "      <td>0</td>\n",
       "    </tr>\n",
       "    <tr>\n",
       "      <th>2</th>\n",
       "      <td>8</td>\n",
       "      <td>183</td>\n",
       "      <td>64</td>\n",
       "      <td>0</td>\n",
       "      <td>0</td>\n",
       "      <td>23.3</td>\n",
       "      <td>0.672</td>\n",
       "      <td>32</td>\n",
       "      <td>1</td>\n",
       "    </tr>\n",
       "    <tr>\n",
       "      <th>3</th>\n",
       "      <td>1</td>\n",
       "      <td>89</td>\n",
       "      <td>66</td>\n",
       "      <td>23</td>\n",
       "      <td>94</td>\n",
       "      <td>28.1</td>\n",
       "      <td>0.167</td>\n",
       "      <td>21</td>\n",
       "      <td>0</td>\n",
       "    </tr>\n",
       "    <tr>\n",
       "      <th>4</th>\n",
       "      <td>0</td>\n",
       "      <td>137</td>\n",
       "      <td>40</td>\n",
       "      <td>35</td>\n",
       "      <td>168</td>\n",
       "      <td>43.1</td>\n",
       "      <td>2.288</td>\n",
       "      <td>33</td>\n",
       "      <td>1</td>\n",
       "    </tr>\n",
       "  </tbody>\n",
       "</table>\n",
       "</div>"
      ],
      "text/plain": [
       "   Pregnancies  Glucose  BloodPressure  SkinThickness  Insulin   BMI  \\\n",
       "0            6      148             72             35        0  33.6   \n",
       "1            1       85             66             29        0  26.6   \n",
       "2            8      183             64              0        0  23.3   \n",
       "3            1       89             66             23       94  28.1   \n",
       "4            0      137             40             35      168  43.1   \n",
       "\n",
       "   DiabetesPedigreeFunction  Age  Outcome  \n",
       "0                     0.627   50        1  \n",
       "1                     0.351   31        0  \n",
       "2                     0.672   32        1  \n",
       "3                     0.167   21        0  \n",
       "4                     2.288   33        1  "
      ]
     },
     "execution_count": 4,
     "metadata": {},
     "output_type": "execute_result"
    }
   ],
   "source": [
    "#printing the first five rows of dataset \n",
    "diabetes_dataset.head()"
   ]
  },
  {
   "cell_type": "code",
   "execution_count": 5,
   "id": "9ce858cb",
   "metadata": {
    "execution": {
     "iopub.execute_input": "2022-09-08T11:29:50.043893Z",
     "iopub.status.busy": "2022-09-08T11:29:50.043494Z",
     "iopub.status.idle": "2022-09-08T11:29:50.056452Z",
     "shell.execute_reply": "2022-09-08T11:29:50.055508Z"
    },
    "papermill": {
     "duration": 0.023159,
     "end_time": "2022-09-08T11:29:50.058265",
     "exception": false,
     "start_time": "2022-09-08T11:29:50.035106",
     "status": "completed"
    },
    "tags": []
   },
   "outputs": [
    {
     "data": {
      "text/html": [
       "<div>\n",
       "<style scoped>\n",
       "    .dataframe tbody tr th:only-of-type {\n",
       "        vertical-align: middle;\n",
       "    }\n",
       "\n",
       "    .dataframe tbody tr th {\n",
       "        vertical-align: top;\n",
       "    }\n",
       "\n",
       "    .dataframe thead th {\n",
       "        text-align: right;\n",
       "    }\n",
       "</style>\n",
       "<table border=\"1\" class=\"dataframe\">\n",
       "  <thead>\n",
       "    <tr style=\"text-align: right;\">\n",
       "      <th></th>\n",
       "      <th>Pregnancies</th>\n",
       "      <th>Glucose</th>\n",
       "      <th>BloodPressure</th>\n",
       "      <th>SkinThickness</th>\n",
       "      <th>Insulin</th>\n",
       "      <th>BMI</th>\n",
       "      <th>DiabetesPedigreeFunction</th>\n",
       "      <th>Age</th>\n",
       "      <th>Outcome</th>\n",
       "    </tr>\n",
       "  </thead>\n",
       "  <tbody>\n",
       "    <tr>\n",
       "      <th>763</th>\n",
       "      <td>10</td>\n",
       "      <td>101</td>\n",
       "      <td>76</td>\n",
       "      <td>48</td>\n",
       "      <td>180</td>\n",
       "      <td>32.9</td>\n",
       "      <td>0.171</td>\n",
       "      <td>63</td>\n",
       "      <td>0</td>\n",
       "    </tr>\n",
       "    <tr>\n",
       "      <th>764</th>\n",
       "      <td>2</td>\n",
       "      <td>122</td>\n",
       "      <td>70</td>\n",
       "      <td>27</td>\n",
       "      <td>0</td>\n",
       "      <td>36.8</td>\n",
       "      <td>0.340</td>\n",
       "      <td>27</td>\n",
       "      <td>0</td>\n",
       "    </tr>\n",
       "    <tr>\n",
       "      <th>765</th>\n",
       "      <td>5</td>\n",
       "      <td>121</td>\n",
       "      <td>72</td>\n",
       "      <td>23</td>\n",
       "      <td>112</td>\n",
       "      <td>26.2</td>\n",
       "      <td>0.245</td>\n",
       "      <td>30</td>\n",
       "      <td>0</td>\n",
       "    </tr>\n",
       "    <tr>\n",
       "      <th>766</th>\n",
       "      <td>1</td>\n",
       "      <td>126</td>\n",
       "      <td>60</td>\n",
       "      <td>0</td>\n",
       "      <td>0</td>\n",
       "      <td>30.1</td>\n",
       "      <td>0.349</td>\n",
       "      <td>47</td>\n",
       "      <td>1</td>\n",
       "    </tr>\n",
       "    <tr>\n",
       "      <th>767</th>\n",
       "      <td>1</td>\n",
       "      <td>93</td>\n",
       "      <td>70</td>\n",
       "      <td>31</td>\n",
       "      <td>0</td>\n",
       "      <td>30.4</td>\n",
       "      <td>0.315</td>\n",
       "      <td>23</td>\n",
       "      <td>0</td>\n",
       "    </tr>\n",
       "  </tbody>\n",
       "</table>\n",
       "</div>"
      ],
      "text/plain": [
       "     Pregnancies  Glucose  BloodPressure  SkinThickness  Insulin   BMI  \\\n",
       "763           10      101             76             48      180  32.9   \n",
       "764            2      122             70             27        0  36.8   \n",
       "765            5      121             72             23      112  26.2   \n",
       "766            1      126             60              0        0  30.1   \n",
       "767            1       93             70             31        0  30.4   \n",
       "\n",
       "     DiabetesPedigreeFunction  Age  Outcome  \n",
       "763                     0.171   63        0  \n",
       "764                     0.340   27        0  \n",
       "765                     0.245   30        0  \n",
       "766                     0.349   47        1  \n",
       "767                     0.315   23        0  "
      ]
     },
     "execution_count": 5,
     "metadata": {},
     "output_type": "execute_result"
    }
   ],
   "source": [
    "#printing the last five rows of dataset \n",
    "diabetes_dataset.tail()"
   ]
  },
  {
   "cell_type": "code",
   "execution_count": 6,
   "id": "4bd55347",
   "metadata": {
    "execution": {
     "iopub.execute_input": "2022-09-08T11:29:50.075923Z",
     "iopub.status.busy": "2022-09-08T11:29:50.075304Z",
     "iopub.status.idle": "2022-09-08T11:29:50.081245Z",
     "shell.execute_reply": "2022-09-08T11:29:50.080231Z"
    },
    "papermill": {
     "duration": 0.016835,
     "end_time": "2022-09-08T11:29:50.083500",
     "exception": false,
     "start_time": "2022-09-08T11:29:50.066665",
     "status": "completed"
    },
    "tags": []
   },
   "outputs": [
    {
     "data": {
      "text/plain": [
       "(768, 9)"
      ]
     },
     "execution_count": 6,
     "metadata": {},
     "output_type": "execute_result"
    }
   ],
   "source": [
    "#numbers of rows and columns in this dataset\n",
    "diabetes_dataset.shape"
   ]
  },
  {
   "cell_type": "code",
   "execution_count": 7,
   "id": "244c8b3f",
   "metadata": {
    "execution": {
     "iopub.execute_input": "2022-09-08T11:29:50.101246Z",
     "iopub.status.busy": "2022-09-08T11:29:50.100565Z",
     "iopub.status.idle": "2022-09-08T11:29:50.151249Z",
     "shell.execute_reply": "2022-09-08T11:29:50.149905Z"
    },
    "papermill": {
     "duration": 0.062791,
     "end_time": "2022-09-08T11:29:50.153812",
     "exception": false,
     "start_time": "2022-09-08T11:29:50.091021",
     "status": "completed"
    },
    "tags": []
   },
   "outputs": [
    {
     "data": {
      "text/html": [
       "<div>\n",
       "<style scoped>\n",
       "    .dataframe tbody tr th:only-of-type {\n",
       "        vertical-align: middle;\n",
       "    }\n",
       "\n",
       "    .dataframe tbody tr th {\n",
       "        vertical-align: top;\n",
       "    }\n",
       "\n",
       "    .dataframe thead th {\n",
       "        text-align: right;\n",
       "    }\n",
       "</style>\n",
       "<table border=\"1\" class=\"dataframe\">\n",
       "  <thead>\n",
       "    <tr style=\"text-align: right;\">\n",
       "      <th></th>\n",
       "      <th>Pregnancies</th>\n",
       "      <th>Glucose</th>\n",
       "      <th>BloodPressure</th>\n",
       "      <th>SkinThickness</th>\n",
       "      <th>Insulin</th>\n",
       "      <th>BMI</th>\n",
       "      <th>DiabetesPedigreeFunction</th>\n",
       "      <th>Age</th>\n",
       "      <th>Outcome</th>\n",
       "    </tr>\n",
       "  </thead>\n",
       "  <tbody>\n",
       "    <tr>\n",
       "      <th>count</th>\n",
       "      <td>768.000000</td>\n",
       "      <td>768.000000</td>\n",
       "      <td>768.000000</td>\n",
       "      <td>768.000000</td>\n",
       "      <td>768.000000</td>\n",
       "      <td>768.000000</td>\n",
       "      <td>768.000000</td>\n",
       "      <td>768.000000</td>\n",
       "      <td>768.000000</td>\n",
       "    </tr>\n",
       "    <tr>\n",
       "      <th>mean</th>\n",
       "      <td>3.845052</td>\n",
       "      <td>120.894531</td>\n",
       "      <td>69.105469</td>\n",
       "      <td>20.536458</td>\n",
       "      <td>79.799479</td>\n",
       "      <td>31.992578</td>\n",
       "      <td>0.471876</td>\n",
       "      <td>33.240885</td>\n",
       "      <td>0.348958</td>\n",
       "    </tr>\n",
       "    <tr>\n",
       "      <th>std</th>\n",
       "      <td>3.369578</td>\n",
       "      <td>31.972618</td>\n",
       "      <td>19.355807</td>\n",
       "      <td>15.952218</td>\n",
       "      <td>115.244002</td>\n",
       "      <td>7.884160</td>\n",
       "      <td>0.331329</td>\n",
       "      <td>11.760232</td>\n",
       "      <td>0.476951</td>\n",
       "    </tr>\n",
       "    <tr>\n",
       "      <th>min</th>\n",
       "      <td>0.000000</td>\n",
       "      <td>0.000000</td>\n",
       "      <td>0.000000</td>\n",
       "      <td>0.000000</td>\n",
       "      <td>0.000000</td>\n",
       "      <td>0.000000</td>\n",
       "      <td>0.078000</td>\n",
       "      <td>21.000000</td>\n",
       "      <td>0.000000</td>\n",
       "    </tr>\n",
       "    <tr>\n",
       "      <th>25%</th>\n",
       "      <td>1.000000</td>\n",
       "      <td>99.000000</td>\n",
       "      <td>62.000000</td>\n",
       "      <td>0.000000</td>\n",
       "      <td>0.000000</td>\n",
       "      <td>27.300000</td>\n",
       "      <td>0.243750</td>\n",
       "      <td>24.000000</td>\n",
       "      <td>0.000000</td>\n",
       "    </tr>\n",
       "    <tr>\n",
       "      <th>50%</th>\n",
       "      <td>3.000000</td>\n",
       "      <td>117.000000</td>\n",
       "      <td>72.000000</td>\n",
       "      <td>23.000000</td>\n",
       "      <td>30.500000</td>\n",
       "      <td>32.000000</td>\n",
       "      <td>0.372500</td>\n",
       "      <td>29.000000</td>\n",
       "      <td>0.000000</td>\n",
       "    </tr>\n",
       "    <tr>\n",
       "      <th>75%</th>\n",
       "      <td>6.000000</td>\n",
       "      <td>140.250000</td>\n",
       "      <td>80.000000</td>\n",
       "      <td>32.000000</td>\n",
       "      <td>127.250000</td>\n",
       "      <td>36.600000</td>\n",
       "      <td>0.626250</td>\n",
       "      <td>41.000000</td>\n",
       "      <td>1.000000</td>\n",
       "    </tr>\n",
       "    <tr>\n",
       "      <th>max</th>\n",
       "      <td>17.000000</td>\n",
       "      <td>199.000000</td>\n",
       "      <td>122.000000</td>\n",
       "      <td>99.000000</td>\n",
       "      <td>846.000000</td>\n",
       "      <td>67.100000</td>\n",
       "      <td>2.420000</td>\n",
       "      <td>81.000000</td>\n",
       "      <td>1.000000</td>\n",
       "    </tr>\n",
       "  </tbody>\n",
       "</table>\n",
       "</div>"
      ],
      "text/plain": [
       "       Pregnancies     Glucose  BloodPressure  SkinThickness     Insulin  \\\n",
       "count   768.000000  768.000000     768.000000     768.000000  768.000000   \n",
       "mean      3.845052  120.894531      69.105469      20.536458   79.799479   \n",
       "std       3.369578   31.972618      19.355807      15.952218  115.244002   \n",
       "min       0.000000    0.000000       0.000000       0.000000    0.000000   \n",
       "25%       1.000000   99.000000      62.000000       0.000000    0.000000   \n",
       "50%       3.000000  117.000000      72.000000      23.000000   30.500000   \n",
       "75%       6.000000  140.250000      80.000000      32.000000  127.250000   \n",
       "max      17.000000  199.000000     122.000000      99.000000  846.000000   \n",
       "\n",
       "              BMI  DiabetesPedigreeFunction         Age     Outcome  \n",
       "count  768.000000                768.000000  768.000000  768.000000  \n",
       "mean    31.992578                  0.471876   33.240885    0.348958  \n",
       "std      7.884160                  0.331329   11.760232    0.476951  \n",
       "min      0.000000                  0.078000   21.000000    0.000000  \n",
       "25%     27.300000                  0.243750   24.000000    0.000000  \n",
       "50%     32.000000                  0.372500   29.000000    0.000000  \n",
       "75%     36.600000                  0.626250   41.000000    1.000000  \n",
       "max     67.100000                  2.420000   81.000000    1.000000  "
      ]
     },
     "execution_count": 7,
     "metadata": {},
     "output_type": "execute_result"
    }
   ],
   "source": [
    "#getting the statistical measures of the data \n",
    "diabetes_dataset.describe()"
   ]
  },
  {
   "cell_type": "code",
   "execution_count": 8,
   "id": "b219d3ed",
   "metadata": {
    "execution": {
     "iopub.execute_input": "2022-09-08T11:29:50.171519Z",
     "iopub.status.busy": "2022-09-08T11:29:50.171117Z",
     "iopub.status.idle": "2022-09-08T11:29:50.178861Z",
     "shell.execute_reply": "2022-09-08T11:29:50.177885Z"
    },
    "papermill": {
     "duration": 0.019036,
     "end_time": "2022-09-08T11:29:50.181043",
     "exception": false,
     "start_time": "2022-09-08T11:29:50.162007",
     "status": "completed"
    },
    "tags": []
   },
   "outputs": [
    {
     "data": {
      "text/plain": [
       "0    500\n",
       "1    268\n",
       "Name: Outcome, dtype: int64"
      ]
     },
     "execution_count": 8,
     "metadata": {},
     "output_type": "execute_result"
    }
   ],
   "source": [
    "diabetes_dataset['Outcome'].value_counts()"
   ]
  },
  {
   "cell_type": "markdown",
   "id": "95983a57",
   "metadata": {
    "papermill": {
     "duration": 0.007625,
     "end_time": "2022-09-08T11:29:50.196805",
     "exception": false,
     "start_time": "2022-09-08T11:29:50.189180",
     "status": "completed"
    },
    "tags": []
   },
   "source": [
    "0 ==== > Non-Diabetes\n",
    "\n",
    "1 ==== > Diabetes"
   ]
  },
  {
   "cell_type": "code",
   "execution_count": 9,
   "id": "71dcbfd1",
   "metadata": {
    "execution": {
     "iopub.execute_input": "2022-09-08T11:29:50.214553Z",
     "iopub.status.busy": "2022-09-08T11:29:50.214106Z",
     "iopub.status.idle": "2022-09-08T11:29:50.231253Z",
     "shell.execute_reply": "2022-09-08T11:29:50.230550Z"
    },
    "papermill": {
     "duration": 0.028582,
     "end_time": "2022-09-08T11:29:50.233346",
     "exception": false,
     "start_time": "2022-09-08T11:29:50.204764",
     "status": "completed"
    },
    "tags": []
   },
   "outputs": [
    {
     "data": {
      "text/html": [
       "<div>\n",
       "<style scoped>\n",
       "    .dataframe tbody tr th:only-of-type {\n",
       "        vertical-align: middle;\n",
       "    }\n",
       "\n",
       "    .dataframe tbody tr th {\n",
       "        vertical-align: top;\n",
       "    }\n",
       "\n",
       "    .dataframe thead th {\n",
       "        text-align: right;\n",
       "    }\n",
       "</style>\n",
       "<table border=\"1\" class=\"dataframe\">\n",
       "  <thead>\n",
       "    <tr style=\"text-align: right;\">\n",
       "      <th></th>\n",
       "      <th>Pregnancies</th>\n",
       "      <th>Glucose</th>\n",
       "      <th>BloodPressure</th>\n",
       "      <th>SkinThickness</th>\n",
       "      <th>Insulin</th>\n",
       "      <th>BMI</th>\n",
       "      <th>DiabetesPedigreeFunction</th>\n",
       "      <th>Age</th>\n",
       "    </tr>\n",
       "    <tr>\n",
       "      <th>Outcome</th>\n",
       "      <th></th>\n",
       "      <th></th>\n",
       "      <th></th>\n",
       "      <th></th>\n",
       "      <th></th>\n",
       "      <th></th>\n",
       "      <th></th>\n",
       "      <th></th>\n",
       "    </tr>\n",
       "  </thead>\n",
       "  <tbody>\n",
       "    <tr>\n",
       "      <th>0</th>\n",
       "      <td>3.298000</td>\n",
       "      <td>109.980000</td>\n",
       "      <td>68.184000</td>\n",
       "      <td>19.664000</td>\n",
       "      <td>68.792000</td>\n",
       "      <td>30.304200</td>\n",
       "      <td>0.429734</td>\n",
       "      <td>31.190000</td>\n",
       "    </tr>\n",
       "    <tr>\n",
       "      <th>1</th>\n",
       "      <td>4.865672</td>\n",
       "      <td>141.257463</td>\n",
       "      <td>70.824627</td>\n",
       "      <td>22.164179</td>\n",
       "      <td>100.335821</td>\n",
       "      <td>35.142537</td>\n",
       "      <td>0.550500</td>\n",
       "      <td>37.067164</td>\n",
       "    </tr>\n",
       "  </tbody>\n",
       "</table>\n",
       "</div>"
      ],
      "text/plain": [
       "         Pregnancies     Glucose  BloodPressure  SkinThickness     Insulin  \\\n",
       "Outcome                                                                      \n",
       "0           3.298000  109.980000      68.184000      19.664000   68.792000   \n",
       "1           4.865672  141.257463      70.824627      22.164179  100.335821   \n",
       "\n",
       "               BMI  DiabetesPedigreeFunction        Age  \n",
       "Outcome                                                  \n",
       "0        30.304200                  0.429734  31.190000  \n",
       "1        35.142537                  0.550500  37.067164  "
      ]
     },
     "execution_count": 9,
     "metadata": {},
     "output_type": "execute_result"
    }
   ],
   "source": [
    "diabetes_dataset.groupby('Outcome').mean()"
   ]
  },
  {
   "cell_type": "code",
   "execution_count": 10,
   "id": "16ef379c",
   "metadata": {
    "execution": {
     "iopub.execute_input": "2022-09-08T11:29:50.250887Z",
     "iopub.status.busy": "2022-09-08T11:29:50.250133Z",
     "iopub.status.idle": "2022-09-08T11:29:50.255075Z",
     "shell.execute_reply": "2022-09-08T11:29:50.254426Z"
    },
    "papermill": {
     "duration": 0.015615,
     "end_time": "2022-09-08T11:29:50.256933",
     "exception": false,
     "start_time": "2022-09-08T11:29:50.241318",
     "status": "completed"
    },
    "tags": []
   },
   "outputs": [],
   "source": [
    "#separating the data  and labels\n",
    "X = diabetes_dataset.drop(columns = 'Outcome', axis=1)\n",
    "Y = diabetes_dataset['Outcome']"
   ]
  },
  {
   "cell_type": "code",
   "execution_count": 11,
   "id": "acd2914c",
   "metadata": {
    "execution": {
     "iopub.execute_input": "2022-09-08T11:29:50.275209Z",
     "iopub.status.busy": "2022-09-08T11:29:50.274184Z",
     "iopub.status.idle": "2022-09-08T11:29:50.285282Z",
     "shell.execute_reply": "2022-09-08T11:29:50.284032Z"
    },
    "papermill": {
     "duration": 0.02231,
     "end_time": "2022-09-08T11:29:50.287466",
     "exception": false,
     "start_time": "2022-09-08T11:29:50.265156",
     "status": "completed"
    },
    "tags": []
   },
   "outputs": [
    {
     "name": "stdout",
     "output_type": "stream",
     "text": [
      "     Pregnancies  Glucose  BloodPressure  SkinThickness  Insulin   BMI  \\\n",
      "0              6      148             72             35        0  33.6   \n",
      "1              1       85             66             29        0  26.6   \n",
      "2              8      183             64              0        0  23.3   \n",
      "3              1       89             66             23       94  28.1   \n",
      "4              0      137             40             35      168  43.1   \n",
      "..           ...      ...            ...            ...      ...   ...   \n",
      "763           10      101             76             48      180  32.9   \n",
      "764            2      122             70             27        0  36.8   \n",
      "765            5      121             72             23      112  26.2   \n",
      "766            1      126             60              0        0  30.1   \n",
      "767            1       93             70             31        0  30.4   \n",
      "\n",
      "     DiabetesPedigreeFunction  Age  \n",
      "0                       0.627   50  \n",
      "1                       0.351   31  \n",
      "2                       0.672   32  \n",
      "3                       0.167   21  \n",
      "4                       2.288   33  \n",
      "..                        ...  ...  \n",
      "763                     0.171   63  \n",
      "764                     0.340   27  \n",
      "765                     0.245   30  \n",
      "766                     0.349   47  \n",
      "767                     0.315   23  \n",
      "\n",
      "[768 rows x 8 columns]\n"
     ]
    }
   ],
   "source": [
    "print(X)"
   ]
  },
  {
   "cell_type": "code",
   "execution_count": 12,
   "id": "7fd2d626",
   "metadata": {
    "execution": {
     "iopub.execute_input": "2022-09-08T11:29:50.305709Z",
     "iopub.status.busy": "2022-09-08T11:29:50.305164Z",
     "iopub.status.idle": "2022-09-08T11:29:50.311180Z",
     "shell.execute_reply": "2022-09-08T11:29:50.309698Z"
    },
    "papermill": {
     "duration": 0.017548,
     "end_time": "2022-09-08T11:29:50.313433",
     "exception": false,
     "start_time": "2022-09-08T11:29:50.295885",
     "status": "completed"
    },
    "tags": []
   },
   "outputs": [
    {
     "name": "stdout",
     "output_type": "stream",
     "text": [
      "0      1\n",
      "1      0\n",
      "2      1\n",
      "3      0\n",
      "4      1\n",
      "      ..\n",
      "763    0\n",
      "764    0\n",
      "765    0\n",
      "766    1\n",
      "767    0\n",
      "Name: Outcome, Length: 768, dtype: int64\n"
     ]
    }
   ],
   "source": [
    "print(Y)"
   ]
  },
  {
   "cell_type": "markdown",
   "id": "cee4e799",
   "metadata": {
    "papermill": {
     "duration": 0.008185,
     "end_time": "2022-09-08T11:29:50.330638",
     "exception": false,
     "start_time": "2022-09-08T11:29:50.322453",
     "status": "completed"
    },
    "tags": []
   },
   "source": [
    "Standardizing the Data"
   ]
  },
  {
   "cell_type": "code",
   "execution_count": 13,
   "id": "f4277503",
   "metadata": {
    "execution": {
     "iopub.execute_input": "2022-09-08T11:29:50.349608Z",
     "iopub.status.busy": "2022-09-08T11:29:50.349232Z",
     "iopub.status.idle": "2022-09-08T11:29:50.353650Z",
     "shell.execute_reply": "2022-09-08T11:29:50.352717Z"
    },
    "papermill": {
     "duration": 0.016646,
     "end_time": "2022-09-08T11:29:50.355787",
     "exception": false,
     "start_time": "2022-09-08T11:29:50.339141",
     "status": "completed"
    },
    "tags": []
   },
   "outputs": [],
   "source": [
    "scaler = StandardScaler()"
   ]
  },
  {
   "cell_type": "code",
   "execution_count": 14,
   "id": "000104fd",
   "metadata": {
    "execution": {
     "iopub.execute_input": "2022-09-08T11:29:50.374006Z",
     "iopub.status.busy": "2022-09-08T11:29:50.373691Z",
     "iopub.status.idle": "2022-09-08T11:29:50.384048Z",
     "shell.execute_reply": "2022-09-08T11:29:50.383295Z"
    },
    "papermill": {
     "duration": 0.021525,
     "end_time": "2022-09-08T11:29:50.385877",
     "exception": false,
     "start_time": "2022-09-08T11:29:50.364352",
     "status": "completed"
    },
    "tags": []
   },
   "outputs": [
    {
     "data": {
      "text/plain": [
       "StandardScaler()"
      ]
     },
     "execution_count": 14,
     "metadata": {},
     "output_type": "execute_result"
    }
   ],
   "source": [
    "scaler.fit(X)"
   ]
  },
  {
   "cell_type": "code",
   "execution_count": 15,
   "id": "eb6dcd7b",
   "metadata": {
    "execution": {
     "iopub.execute_input": "2022-09-08T11:29:50.403870Z",
     "iopub.status.busy": "2022-09-08T11:29:50.402853Z",
     "iopub.status.idle": "2022-09-08T11:29:50.408791Z",
     "shell.execute_reply": "2022-09-08T11:29:50.408131Z"
    },
    "papermill": {
     "duration": 0.016684,
     "end_time": "2022-09-08T11:29:50.410555",
     "exception": false,
     "start_time": "2022-09-08T11:29:50.393871",
     "status": "completed"
    },
    "tags": []
   },
   "outputs": [],
   "source": [
    "standardized_data = scaler.transform(X)"
   ]
  },
  {
   "cell_type": "code",
   "execution_count": 16,
   "id": "18d365ae",
   "metadata": {
    "execution": {
     "iopub.execute_input": "2022-09-08T11:29:50.428503Z",
     "iopub.status.busy": "2022-09-08T11:29:50.427647Z",
     "iopub.status.idle": "2022-09-08T11:29:50.433999Z",
     "shell.execute_reply": "2022-09-08T11:29:50.432612Z"
    },
    "papermill": {
     "duration": 0.017376,
     "end_time": "2022-09-08T11:29:50.436002",
     "exception": false,
     "start_time": "2022-09-08T11:29:50.418626",
     "status": "completed"
    },
    "tags": []
   },
   "outputs": [
    {
     "name": "stdout",
     "output_type": "stream",
     "text": [
      "[[ 0.63994726  0.84832379  0.14964075 ...  0.20401277  0.46849198\n",
      "   1.4259954 ]\n",
      " [-0.84488505 -1.12339636 -0.16054575 ... -0.68442195 -0.36506078\n",
      "  -0.19067191]\n",
      " [ 1.23388019  1.94372388 -0.26394125 ... -1.10325546  0.60439732\n",
      "  -0.10558415]\n",
      " ...\n",
      " [ 0.3429808   0.00330087  0.14964075 ... -0.73518964 -0.68519336\n",
      "  -0.27575966]\n",
      " [-0.84488505  0.1597866  -0.47073225 ... -0.24020459 -0.37110101\n",
      "   1.17073215]\n",
      " [-0.84488505 -0.8730192   0.04624525 ... -0.20212881 -0.47378505\n",
      "  -0.87137393]]\n"
     ]
    }
   ],
   "source": [
    "print(standardized_data)"
   ]
  },
  {
   "cell_type": "code",
   "execution_count": 17,
   "id": "04320644",
   "metadata": {
    "execution": {
     "iopub.execute_input": "2022-09-08T11:29:50.454122Z",
     "iopub.status.busy": "2022-09-08T11:29:50.453603Z",
     "iopub.status.idle": "2022-09-08T11:29:50.458145Z",
     "shell.execute_reply": "2022-09-08T11:29:50.457221Z"
    },
    "papermill": {
     "duration": 0.016005,
     "end_time": "2022-09-08T11:29:50.460052",
     "exception": false,
     "start_time": "2022-09-08T11:29:50.444047",
     "status": "completed"
    },
    "tags": []
   },
   "outputs": [],
   "source": [
    "X = standardized_data\n",
    "Y = diabetes_dataset['Outcome']"
   ]
  },
  {
   "cell_type": "code",
   "execution_count": 18,
   "id": "00df6124",
   "metadata": {
    "execution": {
     "iopub.execute_input": "2022-09-08T11:29:50.477830Z",
     "iopub.status.busy": "2022-09-08T11:29:50.477510Z",
     "iopub.status.idle": "2022-09-08T11:29:50.485357Z",
     "shell.execute_reply": "2022-09-08T11:29:50.484227Z"
    },
    "papermill": {
     "duration": 0.019427,
     "end_time": "2022-09-08T11:29:50.487770",
     "exception": false,
     "start_time": "2022-09-08T11:29:50.468343",
     "status": "completed"
    },
    "tags": []
   },
   "outputs": [
    {
     "name": "stdout",
     "output_type": "stream",
     "text": [
      "[[ 0.63994726  0.84832379  0.14964075 ...  0.20401277  0.46849198\n",
      "   1.4259954 ]\n",
      " [-0.84488505 -1.12339636 -0.16054575 ... -0.68442195 -0.36506078\n",
      "  -0.19067191]\n",
      " [ 1.23388019  1.94372388 -0.26394125 ... -1.10325546  0.60439732\n",
      "  -0.10558415]\n",
      " ...\n",
      " [ 0.3429808   0.00330087  0.14964075 ... -0.73518964 -0.68519336\n",
      "  -0.27575966]\n",
      " [-0.84488505  0.1597866  -0.47073225 ... -0.24020459 -0.37110101\n",
      "   1.17073215]\n",
      " [-0.84488505 -0.8730192   0.04624525 ... -0.20212881 -0.47378505\n",
      "  -0.87137393]]\n",
      "0      1\n",
      "1      0\n",
      "2      1\n",
      "3      0\n",
      "4      1\n",
      "      ..\n",
      "763    0\n",
      "764    0\n",
      "765    0\n",
      "766    1\n",
      "767    0\n",
      "Name: Outcome, Length: 768, dtype: int64\n"
     ]
    }
   ],
   "source": [
    "print(X)\n",
    "print(Y)"
   ]
  },
  {
   "cell_type": "markdown",
   "id": "e2de0392",
   "metadata": {
    "papermill": {
     "duration": 0.008287,
     "end_time": "2022-09-08T11:29:50.504762",
     "exception": false,
     "start_time": "2022-09-08T11:29:50.496475",
     "status": "completed"
    },
    "tags": []
   },
   "source": [
    "*Spliting* the **Training** and **Test**"
   ]
  },
  {
   "cell_type": "code",
   "execution_count": 19,
   "id": "f7d1bb66",
   "metadata": {
    "execution": {
     "iopub.execute_input": "2022-09-08T11:29:50.523630Z",
     "iopub.status.busy": "2022-09-08T11:29:50.523214Z",
     "iopub.status.idle": "2022-09-08T11:29:50.532608Z",
     "shell.execute_reply": "2022-09-08T11:29:50.531615Z"
    },
    "papermill": {
     "duration": 0.021213,
     "end_time": "2022-09-08T11:29:50.534560",
     "exception": false,
     "start_time": "2022-09-08T11:29:50.513347",
     "status": "completed"
    },
    "tags": []
   },
   "outputs": [],
   "source": [
    "X_train, X_test, Y_train,Y_test = train_test_split(X,Y, test_size=0.2, stratify = Y, random_state=2)"
   ]
  },
  {
   "cell_type": "code",
   "execution_count": 20,
   "id": "3a09c8c2",
   "metadata": {
    "execution": {
     "iopub.execute_input": "2022-09-08T11:29:50.552437Z",
     "iopub.status.busy": "2022-09-08T11:29:50.551799Z",
     "iopub.status.idle": "2022-09-08T11:29:50.558080Z",
     "shell.execute_reply": "2022-09-08T11:29:50.556759Z"
    },
    "papermill": {
     "duration": 0.017242,
     "end_time": "2022-09-08T11:29:50.560330",
     "exception": false,
     "start_time": "2022-09-08T11:29:50.543088",
     "status": "completed"
    },
    "tags": []
   },
   "outputs": [
    {
     "name": "stdout",
     "output_type": "stream",
     "text": [
      "(768, 8) (614, 8) (154, 8)\n"
     ]
    }
   ],
   "source": [
    "print(X.shape, X_train.shape,X_test.shape)"
   ]
  },
  {
   "cell_type": "markdown",
   "id": "c6e3aa39",
   "metadata": {
    "papermill": {
     "duration": 0.008534,
     "end_time": "2022-09-08T11:29:50.577513",
     "exception": false,
     "start_time": "2022-09-08T11:29:50.568979",
     "status": "completed"
    },
    "tags": []
   },
   "source": [
    "**Training** The **Model**"
   ]
  },
  {
   "cell_type": "code",
   "execution_count": 21,
   "id": "9959db53",
   "metadata": {
    "execution": {
     "iopub.execute_input": "2022-09-08T11:29:50.595969Z",
     "iopub.status.busy": "2022-09-08T11:29:50.595596Z",
     "iopub.status.idle": "2022-09-08T11:29:50.600365Z",
     "shell.execute_reply": "2022-09-08T11:29:50.599416Z"
    },
    "papermill": {
     "duration": 0.016571,
     "end_time": "2022-09-08T11:29:50.602569",
     "exception": false,
     "start_time": "2022-09-08T11:29:50.585998",
     "status": "completed"
    },
    "tags": []
   },
   "outputs": [],
   "source": [
    "classifier = svm.SVC(kernel='linear')"
   ]
  },
  {
   "cell_type": "code",
   "execution_count": 22,
   "id": "9464c23e",
   "metadata": {
    "execution": {
     "iopub.execute_input": "2022-09-08T11:29:50.621104Z",
     "iopub.status.busy": "2022-09-08T11:29:50.620766Z",
     "iopub.status.idle": "2022-09-08T11:29:50.641593Z",
     "shell.execute_reply": "2022-09-08T11:29:50.640587Z"
    },
    "papermill": {
     "duration": 0.032588,
     "end_time": "2022-09-08T11:29:50.643847",
     "exception": false,
     "start_time": "2022-09-08T11:29:50.611259",
     "status": "completed"
    },
    "tags": []
   },
   "outputs": [
    {
     "data": {
      "text/plain": [
       "SVC(kernel='linear')"
      ]
     },
     "execution_count": 22,
     "metadata": {},
     "output_type": "execute_result"
    }
   ],
   "source": [
    "#training the support vector Machine Classifier\n",
    "classifier.fit(X_train, Y_train)"
   ]
  },
  {
   "cell_type": "markdown",
   "id": "3007839f",
   "metadata": {
    "papermill": {
     "duration": 0.009027,
     "end_time": "2022-09-08T11:29:50.661741",
     "exception": false,
     "start_time": "2022-09-08T11:29:50.652714",
     "status": "completed"
    },
    "tags": []
   },
   "source": [
    "**Evaluating Model**"
   ]
  },
  {
   "cell_type": "markdown",
   "id": "27e970af",
   "metadata": {
    "papermill": {
     "duration": 0.008039,
     "end_time": "2022-09-08T11:29:50.677919",
     "exception": false,
     "start_time": "2022-09-08T11:29:50.669880",
     "status": "completed"
    },
    "tags": []
   },
   "source": [
    "***Checking*** the ****Accuracy Score****"
   ]
  },
  {
   "cell_type": "code",
   "execution_count": 23,
   "id": "fd3db764",
   "metadata": {
    "execution": {
     "iopub.execute_input": "2022-09-08T11:29:50.697124Z",
     "iopub.status.busy": "2022-09-08T11:29:50.696759Z",
     "iopub.status.idle": "2022-09-08T11:29:50.708211Z",
     "shell.execute_reply": "2022-09-08T11:29:50.707341Z"
    },
    "papermill": {
     "duration": 0.023697,
     "end_time": "2022-09-08T11:29:50.710468",
     "exception": false,
     "start_time": "2022-09-08T11:29:50.686771",
     "status": "completed"
    },
    "tags": []
   },
   "outputs": [],
   "source": [
    "#accuracy score on the training data\n",
    "X_train_prediction = classifier.predict(X_train)\n",
    "training_data_accuracy = accuracy_score(X_train_prediction, Y_train)"
   ]
  },
  {
   "cell_type": "code",
   "execution_count": 24,
   "id": "18d1ca65",
   "metadata": {
    "execution": {
     "iopub.execute_input": "2022-09-08T11:29:50.729232Z",
     "iopub.status.busy": "2022-09-08T11:29:50.728555Z",
     "iopub.status.idle": "2022-09-08T11:29:50.734428Z",
     "shell.execute_reply": "2022-09-08T11:29:50.733334Z"
    },
    "papermill": {
     "duration": 0.017339,
     "end_time": "2022-09-08T11:29:50.736387",
     "exception": false,
     "start_time": "2022-09-08T11:29:50.719048",
     "status": "completed"
    },
    "tags": []
   },
   "outputs": [
    {
     "name": "stdout",
     "output_type": "stream",
     "text": [
      "Accuracy score of the training data is 0.7866449511400652\n"
     ]
    }
   ],
   "source": [
    "print(\"Accuracy score of the training data is\", training_data_accuracy)"
   ]
  }
 ],
 "metadata": {
  "kernelspec": {
   "display_name": "Python 3",
   "language": "python",
   "name": "python3"
  },
  "language_info": {
   "codemirror_mode": {
    "name": "ipython",
    "version": 3
   },
   "file_extension": ".py",
   "mimetype": "text/x-python",
   "name": "python",
   "nbconvert_exporter": "python",
   "pygments_lexer": "ipython3",
   "version": "3.7.12"
  },
  "papermill": {
   "default_parameters": {},
   "duration": 11.216871,
   "end_time": "2022-09-08T11:29:51.466544",
   "environment_variables": {},
   "exception": null,
   "input_path": "__notebook__.ipynb",
   "output_path": "__notebook__.ipynb",
   "parameters": {},
   "start_time": "2022-09-08T11:29:40.249673",
   "version": "2.3.4"
  }
 },
 "nbformat": 4,
 "nbformat_minor": 5
}
